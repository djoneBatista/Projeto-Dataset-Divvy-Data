{
 "cells": [
  {
   "cell_type": "markdown",
   "metadata": {},
   "source": [
    "# Carregando a bases de dados"
   ]
  },
  {
   "cell_type": "code",
   "execution_count": 3,
   "metadata": {},
   "outputs": [],
   "source": [
    "import pandas as pd\n",
    "dataset1= pd.read_csv(\"Divvy_Trips_2017_Q3.csv\") \n",
    "dataset2= pd.read_csv(\"Divvy_Trips_2017_Q4.csv\") \n",
    "datamaps= pd.read_csv(\"Divvy_Stations_2017_Q3Q4.csv\")"
   ]
  },
  {
   "cell_type": "markdown",
   "metadata": {},
   "source": [
    "# Merge entre as  duas  base de dados"
   ]
  },
  {
   "cell_type": "code",
   "execution_count": 4,
   "metadata": {},
   "outputs": [],
   "source": [
    "dataset = pd.merge(dataset1,dataset2,how='outer')"
   ]
  },
  {
   "cell_type": "code",
   "execution_count": 5,
   "metadata": {},
   "outputs": [],
   "source": [
    "# extrair from_station_id e from_station_name da  base   dataset\n",
    "from_station = {'from_station_id':dataset.from_station_id,\n",
    "                'from_station_name': dataset.from_station_name,\n",
    "                'to_station_name': dataset.to_station_name\n",
    "               }"
   ]
  },
  {
   "cell_type": "code",
   "execution_count": 6,
   "metadata": {},
   "outputs": [],
   "source": [
    "partida = pd.DataFrame(data=from_station) # montar DataFrame"
   ]
  },
  {
   "cell_type": "code",
   "execution_count": 7,
   "metadata": {},
   "outputs": [],
   "source": [
    "mapa = {'id':datamaps.id,\n",
    "        'latitude':datamaps.latitude,\n",
    "        'longitude':datamaps.longitude}"
   ]
  },
  {
   "cell_type": "code",
   "execution_count": 8,
   "metadata": {},
   "outputs": [],
   "source": [
    "partida_mapa = pd.DataFrame(data=mapa)"
   ]
  },
  {
   "cell_type": "markdown",
   "metadata": {},
   "source": [
    "# concatena dois DataFrame  com ID  correspondente  from_station_id"
   ]
  },
  {
   "cell_type": "code",
   "execution_count": 9,
   "metadata": {},
   "outputs": [],
   "source": [
    "result = pd.concat([partida_mapa,partida], axis=1,\n",
    "                   join_axes=[partida.from_station_id])"
   ]
  },
  {
   "cell_type": "code",
   "execution_count": 10,
   "metadata": {},
   "outputs": [],
   "source": [
    "result=result.drop('id', axis=1) "
   ]
  },
  {
   "cell_type": "code",
   "execution_count": 11,
   "metadata": {},
   "outputs": [],
   "source": [
    "result.index.names = ['index']"
   ]
  },
  {
   "cell_type": "markdown",
   "metadata": {},
   "source": [
    "# pesquisa por estacao "
   ]
  },
  {
   "cell_type": "code",
   "execution_count": 12,
   "metadata": {},
   "outputs": [],
   "source": [
    "                                                      # posicao na lista\n",
    "Endereco_estacoes= ['Streeter Dr & Grand Ave',             #  0\n",
    "                    'Mies van der Rohe Way & Chicago Ave', #  1\n",
    "                    'State St & Pearson St',               #  2\n",
    "                    'Wilton Ave & Belmont Ave',            #  3\n",
    "                    'Shedd Aquarium',                      #  4\n",
    "                    'Southport Ave & Irving Park Rd',      #  5\n",
    "                    'Clinton St & Tilden St',              #  6\n",
    "                    'Milwaukee Ave & Rockwell St',         #  7\n",
    "                    'Racine Ave & 18th St'                 #  8\n",
    "                    ]\n",
    "\n",
    "posicao_lista=0"
   ]
  },
  {
   "cell_type": "code",
   "execution_count": 13,
   "metadata": {},
   "outputs": [],
   "source": [
    "nome_estacao_partida=Endereco_estacoes[posicao_lista]"
   ]
  },
  {
   "cell_type": "code",
   "execution_count": 14,
   "metadata": {},
   "outputs": [],
   "source": [
    "# limitar o numero de instancia para que seja mais rapido o processamento\n",
    "limitar_intancias=1000"
   ]
  },
  {
   "cell_type": "code",
   "execution_count": 15,
   "metadata": {},
   "outputs": [],
   "source": [
    "instancias=result[result['from_station_name'] ==\n",
    "                  nome_estacao_partida ].head(limitar_intancias)"
   ]
  },
  {
   "cell_type": "code",
   "execution_count": 16,
   "metadata": {},
   "outputs": [],
   "source": [
    "# tratamento dos numero de instancias\n",
    "if len(instancias) != limitar_intancias:\n",
    "    instancias=limitar_intancias\n",
    "else:\n",
    "    instancias=len(instancias)  "
   ]
  },
  {
   "cell_type": "markdown",
   "metadata": {},
   "source": [
    "# filtrar por estação partida e destino"
   ]
  },
  {
   "cell_type": "code",
   "execution_count": 17,
   "metadata": {},
   "outputs": [],
   "source": [
    "latitude_destino=result.latitude[result[\n",
    "    'from_station_name'] ==nome_estacao_partida].head(instancias)\n",
    "longitude_destino=result.longitude[result[\n",
    "    'from_station_name'] ==nome_estacao_partida].head(instancias)"
   ]
  },
  {
   "cell_type": "code",
   "execution_count": 18,
   "metadata": {},
   "outputs": [],
   "source": [
    "destino= pd.DataFrame(data=latitude_destino)\n",
    "destino1 = pd.DataFrame(data=longitude_destino)"
   ]
  },
  {
   "cell_type": "markdown",
   "metadata": {},
   "source": [
    "# posicionamento no map a estação de destino"
   ]
  },
  {
   "cell_type": "code",
   "execution_count": 19,
   "metadata": {},
   "outputs": [],
   "source": [
    "latitude_destino = pd.DataFrame.from_records(destino, \n",
    "                                             columns=['latitude'])\n",
    "longitude_destino = pd.DataFrame.from_records(destino1,\n",
    "                                              columns=['longitude'])"
   ]
  },
  {
   "cell_type": "code",
   "execution_count": 20,
   "metadata": {},
   "outputs": [],
   "source": [
    "latitude_origem=datamaps.latitude[datamaps['name'] == \n",
    "                                  nome_estacao_partida]\n",
    "longitude_origem=datamaps.longitude[datamaps['name'] == \n",
    "                                    nome_estacao_partida]"
   ]
  },
  {
   "cell_type": "markdown",
   "metadata": {},
   "source": [
    "# transformar em lista "
   ]
  },
  {
   "cell_type": "code",
   "execution_count": 21,
   "metadata": {},
   "outputs": [],
   "source": [
    "px2=list(latitude_origem)\n",
    "py2=list(longitude_origem)\n",
    "px1=list(latitude_destino.latitude[0:len(latitude_destino)])\n",
    "py1=list(longitude_destino.longitude[0:len(longitude_destino)])"
   ]
  },
  {
   "cell_type": "markdown",
   "metadata": {},
   "source": [
    "# Gerar o mapas de trajeto"
   ]
  },
  {
   "cell_type": "code",
   "execution_count": null,
   "metadata": {},
   "outputs": [],
   "source": [
    "%matplotlib inline \n",
    "import smopy\n",
    "import matplotlib.pyplot as pp\n",
    "    \n",
    "map_chi = smopy.Map((41.86, -87.645, 41.93, -87.605),z=11);\n",
    "ax = map_chi.show_mpl(figsize=(10, 10));\n",
    " \n",
    "for t in range(len(longitude_destino)):  \n",
    "    x1,y1 = map_chi.to_pixels(px1[t],py1[t]);\n",
    "    x2,y2 = map_chi.to_pixels(px2[0],py2[0]);   \n",
    "\n",
    "    ax.plot([x1, x2], [y1, y2], 'r');\n",
    "    ax.plot(x1, y1, 'go');\n",
    "    ax.plot(x2, y2, 'r*');    \n",
    "\n",
    "pp.show()\n"
   ]
  },
  {
   "cell_type": "markdown",
   "metadata": {},
   "source": [
    "# grava a imagem em PDF"
   ]
  },
  {
   "cell_type": "code",
   "execution_count": 23,
   "metadata": {},
   "outputs": [
    {
     "data": {
      "text/plain": [
       "<Figure size 432x288 with 0 Axes>"
      ]
     },
     "metadata": {},
     "output_type": "display_data"
    }
   ],
   "source": [
    "import matplotlib.pyplot as plt\n",
    "plt.savefig('trajeto.pdf') # gravar magem   em PDF\n"
   ]
  },
  {
   "cell_type": "markdown",
   "metadata": {},
   "source": [
    "# Verificar as estações de partida  para  uma estação de  chegada"
   ]
  },
  {
   "cell_type": "code",
   "execution_count": 24,
   "metadata": {},
   "outputs": [],
   "source": [
    "estacoes_chegada=result[(result['from_station_name'] ==nome_estacao_partida)]\n",
    "# checar as  viagem"
   ]
  },
  {
   "cell_type": "code",
   "execution_count": 25,
   "metadata": {},
   "outputs": [],
   "source": [
    "estacoes_chegada = estacoes_chegada.groupby(['latitude',\n",
    "                                       'longitude',\n",
    "                                       'from_station_id',\n",
    "                                       'from_station_name',\n",
    "                                       'to_station_name']).size().reset_index()"
   ]
  },
  {
   "cell_type": "code",
   "execution_count": 26,
   "metadata": {},
   "outputs": [],
   "source": [
    "estacoes_chegada.columns = ['latitude',\n",
    "                            'longitude',\n",
    "                            'from_station_id',\n",
    "                            'from_station_name',\n",
    "                            'to_station_name', \n",
    "                            'freq']"
   ]
  },
  {
   "cell_type": "code",
   "execution_count": 27,
   "metadata": {},
   "outputs": [
    {
     "data": {
      "text/html": [
       "<div>\n",
       "<style scoped>\n",
       "    .dataframe tbody tr th:only-of-type {\n",
       "        vertical-align: middle;\n",
       "    }\n",
       "\n",
       "    .dataframe tbody tr th {\n",
       "        vertical-align: top;\n",
       "    }\n",
       "\n",
       "    .dataframe thead th {\n",
       "        text-align: right;\n",
       "    }\n",
       "</style>\n",
       "<table border=\"1\" class=\"dataframe\">\n",
       "  <thead>\n",
       "    <tr style=\"text-align: right;\">\n",
       "      <th></th>\n",
       "      <th>latitude</th>\n",
       "      <th>longitude</th>\n",
       "      <th>from_station_name</th>\n",
       "      <th>to_station_name</th>\n",
       "      <th>freq</th>\n",
       "    </tr>\n",
       "  </thead>\n",
       "  <tbody>\n",
       "    <tr>\n",
       "      <th>0</th>\n",
       "      <td>41.874754</td>\n",
       "      <td>-87.649807</td>\n",
       "      <td>Streeter Dr &amp; Grand Ave</td>\n",
       "      <td>McClurg Ct &amp; Erie St</td>\n",
       "      <td>195</td>\n",
       "    </tr>\n",
       "    <tr>\n",
       "      <th>1</th>\n",
       "      <td>41.875009</td>\n",
       "      <td>-87.633106</td>\n",
       "      <td>Streeter Dr &amp; Grand Ave</td>\n",
       "      <td>Theater on the Lake</td>\n",
       "      <td>25410</td>\n",
       "    </tr>\n",
       "    <tr>\n",
       "      <th>2</th>\n",
       "      <td>41.878287</td>\n",
       "      <td>-87.643909</td>\n",
       "      <td>Streeter Dr &amp; Grand Ave</td>\n",
       "      <td>McClurg Ct &amp; Erie St</td>\n",
       "      <td>5158</td>\n",
       "    </tr>\n",
       "    <tr>\n",
       "      <th>3</th>\n",
       "      <td>41.883668</td>\n",
       "      <td>-87.648670</td>\n",
       "      <td>Streeter Dr &amp; Grand Ave</td>\n",
       "      <td>Streeter Dr &amp; Grand Ave</td>\n",
       "      <td>8637</td>\n",
       "    </tr>\n",
       "    <tr>\n",
       "      <th>4</th>\n",
       "      <td>41.893992</td>\n",
       "      <td>-87.629318</td>\n",
       "      <td>Streeter Dr &amp; Grand Ave</td>\n",
       "      <td>McClurg Ct &amp; Erie St</td>\n",
       "      <td>6274</td>\n",
       "    </tr>\n",
       "    <tr>\n",
       "      <th>5</th>\n",
       "      <td>41.897448</td>\n",
       "      <td>-87.628722</td>\n",
       "      <td>Streeter Dr &amp; Grand Ave</td>\n",
       "      <td>McClurg Ct &amp; Erie St</td>\n",
       "      <td>3551</td>\n",
       "    </tr>\n",
       "    <tr>\n",
       "      <th>6</th>\n",
       "      <td>41.915520</td>\n",
       "      <td>-87.687022</td>\n",
       "      <td>Streeter Dr &amp; Grand Ave</td>\n",
       "      <td>Streeter Dr &amp; Grand Ave</td>\n",
       "      <td>147</td>\n",
       "    </tr>\n",
       "    <tr>\n",
       "      <th>7</th>\n",
       "      <td>41.968354</td>\n",
       "      <td>-87.711831</td>\n",
       "      <td>Streeter Dr &amp; Grand Ave</td>\n",
       "      <td>Streeter Dr &amp; Grand Ave</td>\n",
       "      <td>352</td>\n",
       "    </tr>\n",
       "    <tr>\n",
       "      <th>8</th>\n",
       "      <td>41.974911</td>\n",
       "      <td>-87.692503</td>\n",
       "      <td>Streeter Dr &amp; Grand Ave</td>\n",
       "      <td>Streeter Dr &amp; Grand Ave</td>\n",
       "      <td>271</td>\n",
       "    </tr>\n",
       "    <tr>\n",
       "      <th>9</th>\n",
       "      <td>41.975633</td>\n",
       "      <td>-87.701419</td>\n",
       "      <td>Streeter Dr &amp; Grand Ave</td>\n",
       "      <td>Streeter Dr &amp; Grand Ave</td>\n",
       "      <td>129</td>\n",
       "    </tr>\n",
       "  </tbody>\n",
       "</table>\n",
       "</div>"
      ],
      "text/plain": [
       "    latitude  longitude        from_station_name          to_station_name  \\\n",
       "0  41.874754 -87.649807  Streeter Dr & Grand Ave     McClurg Ct & Erie St   \n",
       "1  41.875009 -87.633106  Streeter Dr & Grand Ave      Theater on the Lake   \n",
       "2  41.878287 -87.643909  Streeter Dr & Grand Ave     McClurg Ct & Erie St   \n",
       "3  41.883668 -87.648670  Streeter Dr & Grand Ave  Streeter Dr & Grand Ave   \n",
       "4  41.893992 -87.629318  Streeter Dr & Grand Ave     McClurg Ct & Erie St   \n",
       "5  41.897448 -87.628722  Streeter Dr & Grand Ave     McClurg Ct & Erie St   \n",
       "6  41.915520 -87.687022  Streeter Dr & Grand Ave  Streeter Dr & Grand Ave   \n",
       "7  41.968354 -87.711831  Streeter Dr & Grand Ave  Streeter Dr & Grand Ave   \n",
       "8  41.974911 -87.692503  Streeter Dr & Grand Ave  Streeter Dr & Grand Ave   \n",
       "9  41.975633 -87.701419  Streeter Dr & Grand Ave  Streeter Dr & Grand Ave   \n",
       "\n",
       "    freq  \n",
       "0    195  \n",
       "1  25410  \n",
       "2   5158  \n",
       "3   8637  \n",
       "4   6274  \n",
       "5   3551  \n",
       "6    147  \n",
       "7    352  \n",
       "8    271  \n",
       "9    129  "
      ]
     },
     "execution_count": 27,
     "metadata": {},
     "output_type": "execute_result"
    }
   ],
   "source": [
    "estacoes_chegada.drop('from_station_id', axis=1)"
   ]
  }
 ],
 "metadata": {
  "kernelspec": {
   "display_name": "Python 3",
   "language": "python",
   "name": "python3"
  },
  "language_info": {
   "codemirror_mode": {
    "name": "ipython",
    "version": 3
   },
   "file_extension": ".py",
   "mimetype": "text/x-python",
   "name": "python",
   "nbconvert_exporter": "python",
   "pygments_lexer": "ipython3",
   "version": "3.6.5"
  }
 },
 "nbformat": 4,
 "nbformat_minor": 2
}
